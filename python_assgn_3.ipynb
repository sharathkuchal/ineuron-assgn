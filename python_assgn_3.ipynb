{
 "cells": [
  {
   "cell_type": "code",
   "execution_count": 1,
   "id": "39185bac-d34a-492f-9af0-b02ea9eeb211",
   "metadata": {},
   "outputs": [
    {
     "data": {
      "text/plain": [
       "17"
      ]
     },
     "execution_count": 1,
     "metadata": {},
     "output_type": "execute_result"
    }
   ],
   "source": [
    "from functools import reduce\n",
    "\n",
    "#replicate reduce function with args (function, list)\n",
    "def myreduce(func, mylist):\n",
    "    result = mylist[0]\n",
    "    for i in range(1,len(mylist)):\n",
    "        result = func(result, mylist[i])\n",
    "    return result\n",
    "\n",
    "#add function\n",
    "def add(a, b):\n",
    "    return a+b\n",
    "\n",
    "#multiplier lambda function\n",
    "multiplier = lambda a,b: a*b\n",
    "\n",
    "li = [1, 3, 5, 6, 2]\n",
    "\n",
    "# reduce(multiplier, li)\n",
    "# myreduce(multiplier, li)\n",
    "myreduce(add, li)\n"
   ]
  },
  {
   "cell_type": "code",
   "execution_count": 2,
   "id": "c610362d-3634-4177-9fe2-a386eaa9cd1b",
   "metadata": {},
   "outputs": [
    {
     "data": {
      "text/plain": [
       "[2, 8, 12, 28]"
      ]
     },
     "execution_count": 2,
     "metadata": {},
     "output_type": "execute_result"
    }
   ],
   "source": [
    "def myfilter(func, mylist):\n",
    "    return (val for val in mylist if func(val))\n",
    "\n",
    "#is_even function return True if value even else false\n",
    "def is_even(num):\n",
    "    return True if num%2==0 else False\n",
    "\n",
    "li = [1, 2, 3, 5, 8, 12, 21, 25, 28]\n",
    "\n",
    "# list(filter(is_even, li))\n",
    "list(myfilter(is_even, li))"
   ]
  },
  {
   "cell_type": "code",
   "execution_count": 3,
   "id": "c5552f37-4484-465f-b4e6-4ed7d0b0dfc6",
   "metadata": {},
   "outputs": [
    {
     "data": {
      "text/plain": [
       "['x', 'xx', 'xxx', 'xxxx', 'y', 'yy', 'yyy', 'yyyy', 'z', 'zz', 'zzz', 'zzzz']"
      ]
     },
     "execution_count": 3,
     "metadata": {},
     "output_type": "execute_result"
    }
   ],
   "source": [
    "[a*i for a in 'xyz' for i in range(1, 5)]"
   ]
  },
  {
   "cell_type": "code",
   "execution_count": 4,
   "id": "05f1c55a-e47c-4756-99e3-69a4f21d510b",
   "metadata": {},
   "outputs": [
    {
     "data": {
      "text/plain": [
       "['x', 'y', 'z', 'xx', 'yy', 'zz', 'xxx', 'yyy', 'zzz', 'xxxx', 'yyyy', 'zzzz']"
      ]
     },
     "execution_count": 4,
     "metadata": {},
     "output_type": "execute_result"
    }
   ],
   "source": [
    "[a*i for i in range(1, 5) for a in 'xyz']"
   ]
  },
  {
   "cell_type": "code",
   "execution_count": 5,
   "id": "774c25f1-7ea7-4214-a2df-ad32163d713e",
   "metadata": {},
   "outputs": [
    {
     "data": {
      "text/plain": [
       "[[2], [3], [4], [3], [4], [5], [4], [5], [6]]"
      ]
     },
     "execution_count": 5,
     "metadata": {},
     "output_type": "execute_result"
    }
   ],
   "source": [
    "\n",
    "[[x+y] for x in range(2,5) for y in range(3)]"
   ]
  },
  {
   "cell_type": "code",
   "execution_count": 6,
   "id": "95d3c13f-d53e-433d-9493-b9105fa93217",
   "metadata": {},
   "outputs": [
    {
     "data": {
      "text/plain": [
       "[[2, 3, 4, 5], [3, 4, 5, 6], [4, 5, 6, 7], [5, 6, 7, 8]]"
      ]
     },
     "execution_count": 6,
     "metadata": {},
     "output_type": "execute_result"
    }
   ],
   "source": [
    "li = [2, 3, 4, 5, 6, 7, 8]\n",
    "[li[i:i+4] for i in range(4)]"
   ]
  },
  {
   "cell_type": "code",
   "execution_count": 7,
   "id": "e83c3126-832d-422d-8b36-01a7c8eacc1c",
   "metadata": {},
   "outputs": [
    {
     "data": {
      "text/plain": [
       "[(1, 1), (1, 2), (1, 3), (2, 1), (2, 2), (2, 3), (3, 1), (3, 2), (3, 3)]"
      ]
     },
     "execution_count": 7,
     "metadata": {},
     "output_type": "execute_result"
    }
   ],
   "source": [
    "[(i, j) for i in range(1, 4) for j in range(1, 4)]"
   ]
  },
  {
   "cell_type": "code",
   "execution_count": null,
   "id": "aa645c8a-ba82-4b22-a9e9-6efd151bb88a",
   "metadata": {},
   "outputs": [],
   "source": []
  }
 ],
 "metadata": {
  "kernelspec": {
   "display_name": "Python 3",
   "language": "python",
   "name": "python3"
  },
  "language_info": {
   "codemirror_mode": {
    "name": "ipython",
    "version": 3
   },
   "file_extension": ".py",
   "mimetype": "text/x-python",
   "name": "python",
   "nbconvert_exporter": "python",
   "pygments_lexer": "ipython3",
   "version": "3.8.8"
  }
 },
 "nbformat": 4,
 "nbformat_minor": 5
}
