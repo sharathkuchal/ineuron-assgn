{
 "cells": [
  {
   "cell_type": "code",
   "execution_count": 1,
   "id": "e7516e32-2a4c-4542-b7d1-30a2f5e1c2d3",
   "metadata": {},
   "outputs": [
    {
     "name": "stdout",
     "output_type": "stream",
     "text": [
      "2002, 2009, 2016, 2023, 2037, 2044, 2051, 2058, 2072, 2079, 2086, 2093, 2107, 2114, 2121, 2128, 2142, 2149, 2156, 2163, 2177, 2184, 2191, 2198, 2212, 2219, 2226, 2233, 2247, 2254, 2261, 2268, 2282, 2289, 2296, 2303, 2317, 2324, 2331, 2338, 2352, 2359, 2366, 2373, 2387, 2394, 2401, 2408, 2422, 2429, 2436, 2443, 2457, 2464, 2471, 2478, 2492, 2499, 2506, 2513, 2527, 2534, 2541, 2548, 2562, 2569, 2576, 2583, 2597, 2604, 2611, 2618, 2632, 2639, 2646, 2653, 2667, 2674, 2681, 2688, 2702, 2709, 2716, 2723, 2737, 2744, 2751, 2758, 2772, 2779, 2786, 2793, 2807, 2814, 2821, 2828, 2842, 2849, 2856, 2863, 2877, 2884, 2891, 2898, 2912, 2919, 2926, 2933, 2947, 2954, 2961, 2968, 2982, 2989, 2996, 3003, 3017, 3024, 3031, 3038, 3052, 3059, 3066, 3073, 3087, 3094, 3101, 3108, 3122, 3129, 3136, 3143, 3157, 3164, 3171, 3178, 3192, 3199\n"
     ]
    }
   ],
   "source": [
    "#1 number divisible by 7 but not by 5 between 2000 and 3200 (both included)\n",
    "result = ''\n",
    "for i in range(2000, 3201):    \n",
    "    if i%7 == 0 and i%5!=0:\n",
    "        result += str(i)+', '\n",
    "        \n",
    "#remove last comma from result\n",
    "print(result[:-2])"
   ]
  },
  {
   "cell_type": "code",
   "execution_count": 2,
   "id": "1bb310df-8f27-4f5f-928a-4f152f0d521a",
   "metadata": {},
   "outputs": [
    {
     "name": "stdin",
     "output_type": "stream",
     "text": [
      "Enter first name:  sharath\n",
      "Enter last name: chandra\n"
     ]
    },
    {
     "name": "stdout",
     "output_type": "stream",
     "text": [
      "htarahs ardnahc\n"
     ]
    }
   ],
   "source": [
    "#2 accept user's first name and last name, reverse and concatenate with space in between\n",
    "first_name = input('Enter first name: ')\n",
    "last_name = input('Enter last name:')\n",
    "\n",
    "#reverse with str splicing\n",
    "print(first_name[::-1], last_name[::-1])"
   ]
  },
  {
   "cell_type": "code",
   "execution_count": 3,
   "id": "ddcbd4ae-cd7b-4c8b-b725-de24866266f5",
   "metadata": {},
   "outputs": [
    {
     "data": {
      "text/plain": [
       "904.7786842338604"
      ]
     },
     "execution_count": 3,
     "metadata": {},
     "output_type": "execute_result"
    }
   ],
   "source": [
    "import math\n",
    "\n",
    "diameter = 12\n",
    "radius = diameter/2\n",
    "volume = (4*math.pi*radius**3)/3\n",
    "volume"
   ]
  },
  {
   "cell_type": "code",
   "execution_count": null,
   "id": "9fc8c8dd-dc7f-4a51-a14c-c8e40d50c0d2",
   "metadata": {},
   "outputs": [],
   "source": []
  }
 ],
 "metadata": {
  "kernelspec": {
   "display_name": "Python 3",
   "language": "python",
   "name": "python3"
  },
  "language_info": {
   "codemirror_mode": {
    "name": "ipython",
    "version": 3
   },
   "file_extension": ".py",
   "mimetype": "text/x-python",
   "name": "python",
   "nbconvert_exporter": "python",
   "pygments_lexer": "ipython3",
   "version": "3.8.8"
  }
 },
 "nbformat": 4,
 "nbformat_minor": 5
}
