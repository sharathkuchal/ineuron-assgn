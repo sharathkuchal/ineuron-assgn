{
 "cells": [
  {
   "cell_type": "code",
   "execution_count": 1,
   "id": "c6f80dd9-e18e-4230-af8a-81d71129a5a1",
   "metadata": {},
   "outputs": [
    {
     "data": {
      "text/plain": [
       "8.94427190999916"
      ]
     },
     "execution_count": 1,
     "metadata": {},
     "output_type": "execute_result"
    }
   ],
   "source": [
    "class area_of_triangle:\n",
    "    def __init__ (self, a, b, c):\n",
    "        self.a = a\n",
    "        self.b = b\n",
    "        self.c = c\n",
    "        \n",
    "    def get_area(self):\n",
    "        s = (self.a+self.b+self.c)/2\n",
    "        area = (s*(s-self.a)*(s-self.b)*(s-self.c))**0.5\n",
    "        return area\n",
    "    \n",
    "    \n",
    "tri = area_of_triangle(3, 6 ,7)\n",
    "tri.get_area()\n"
   ]
  },
  {
   "cell_type": "code",
   "execution_count": 2,
   "id": "0532d500-dec3-4ca2-a09f-d0988587401e",
   "metadata": {},
   "outputs": [
    {
     "data": {
      "text/plain": [
       "['Hello', 'long_word', 'very_long_word', 'super hot', 'breathe']"
      ]
     },
     "execution_count": 2,
     "metadata": {},
     "output_type": "execute_result"
    }
   ],
   "source": [
    "def filter_long_words(word_list, n):\n",
    "    return [word for word in word_list if len(word) > n]\n",
    "        \n",
    "word_list = ['Hello', 'long_word', 'very_long_word', 'Hi', 'super hot', 'I', 'breathe']\n",
    "num = 3\n",
    "\n",
    "filter_long_words(word_list, num)"
   ]
  },
  {
   "cell_type": "code",
   "execution_count": 3,
   "id": "7b77e88a-184e-424c-ad61-642b61ca7ef3",
   "metadata": {},
   "outputs": [
    {
     "data": {
      "text/plain": [
       "[2, 3, 4]"
      ]
     },
     "execution_count": 3,
     "metadata": {},
     "output_type": "execute_result"
    }
   ],
   "source": [
    "def mapper(word_list):\n",
    "    return [len(word) for word in word_list]\n",
    "\n",
    "word_list = ['ab','cde','erty']\n",
    "mapper(word_list)"
   ]
  },
  {
   "cell_type": "code",
   "execution_count": 4,
   "id": "69aa09bb-afef-4eed-86e8-d2bf417c1868",
   "metadata": {},
   "outputs": [
    {
     "name": "stdout",
     "output_type": "stream",
     "text": [
      "True\n",
      "True\n",
      "False\n",
      "False\n"
     ]
    }
   ],
   "source": [
    "def is_vowel(char):\n",
    "    return True if char.lower() in 'aeiou' else False\n",
    "\n",
    "print(is_vowel('A'))\n",
    "print(is_vowel('e'))\n",
    "print(is_vowel('K'))\n",
    "print(is_vowel('p'))"
   ]
  },
  {
   "cell_type": "code",
   "execution_count": null,
   "id": "1315d3dd-ae7c-4819-a564-cebfc5e72059",
   "metadata": {},
   "outputs": [],
   "source": []
  }
 ],
 "metadata": {
  "kernelspec": {
   "display_name": "Python 3",
   "language": "python",
   "name": "python3"
  },
  "language_info": {
   "codemirror_mode": {
    "name": "ipython",
    "version": 3
   },
   "file_extension": ".py",
   "mimetype": "text/x-python",
   "name": "python",
   "nbconvert_exporter": "python",
   "pygments_lexer": "ipython3",
   "version": "3.8.8"
  }
 },
 "nbformat": 4,
 "nbformat_minor": 5
}
